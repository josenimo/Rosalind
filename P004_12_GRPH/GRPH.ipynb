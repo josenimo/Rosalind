{
 "metadata": {
  "language_info": {
   "codemirror_mode": {
    "name": "ipython",
    "version": 3
   },
   "file_extension": ".py",
   "mimetype": "text/x-python",
   "name": "python",
   "nbconvert_exporter": "python",
   "pygments_lexer": "ipython3",
   "version": "3.8.8"
  },
  "orig_nbformat": 4,
  "kernelspec": {
   "name": "python3",
   "display_name": "Python 3.8.8 64-bit ('base': conda)"
  },
  "interpreter": {
   "hash": "0bd1a4d1e6291dea1d2660aa09c009a392dac53435381d2788567577dd358b3c"
  }
 },
 "nbformat": 4,
 "nbformat_minor": 2,
 "cells": [
  {
   "cell_type": "code",
   "execution_count": 1,
   "metadata": {},
   "outputs": [],
   "source": [
    "with open('test.txt','r') as f:\n",
    "    FASTAfile = [l.strip() for l in f.readlines()]\n",
    "\n",
    "#Dictionary for labels + Data\n",
    "FASTADict = {}\n",
    "#String for holding the current label\n",
    "FASTALabel =''\n",
    "\n",
    "for line in FASTAfile:\n",
    "    if '>' in line:\n",
    "        FASTALabel = line[1:]\n",
    "        FASTADict[FASTALabel] = ''\n",
    "    else:\n",
    "        FASTADict[FASTALabel] += line\n",
    "        \n",
    "k=3"
   ]
  },
  {
   "cell_type": "code",
   "execution_count": 2,
   "metadata": {},
   "outputs": [
    {
     "output_type": "execute_result",
     "data": {
      "text/plain": [
       "['Rosalind_0498',\n",
       " 'Rosalind_2391',\n",
       " 'Rosalind_2323',\n",
       " 'Rosalind_0442',\n",
       " 'Rosalind_5013']"
      ]
     },
     "metadata": {},
     "execution_count": 2
    }
   ],
   "source": [
    "mylist=[]\n",
    "for i in FASTADict:\n",
    "    mylist.append(str(i))\n",
    "mylist"
   ]
  },
  {
   "cell_type": "code",
   "execution_count": 3,
   "metadata": {},
   "outputs": [
    {
     "output_type": "stream",
     "name": "stdout",
     "text": [
      "i: Rosalind_0498\n['Rosalind_2391', 'Rosalind_2323', 'Rosalind_0442', 'Rosalind_5013']\no: Rosalind_2391\n['Rosalind_0498', 'Rosalind_2391']\no: Rosalind_2323\no: Rosalind_0442\n['Rosalind_0498', 'Rosalind_0442']\no: Rosalind_5013\ni: Rosalind_2391\n['Rosalind_0498', 'Rosalind_2323', 'Rosalind_0442', 'Rosalind_5013']\no: Rosalind_0498\no: Rosalind_2323\n['Rosalind_2391', 'Rosalind_2323']\no: Rosalind_0442\no: Rosalind_5013\ni: Rosalind_2323\n['Rosalind_0498', 'Rosalind_2391', 'Rosalind_0442', 'Rosalind_5013']\no: Rosalind_0498\no: Rosalind_2391\no: Rosalind_0442\no: Rosalind_5013\ni: Rosalind_0442\n['Rosalind_0498', 'Rosalind_2391', 'Rosalind_2323', 'Rosalind_5013']\no: Rosalind_0498\no: Rosalind_2391\no: Rosalind_2323\no: Rosalind_5013\ni: Rosalind_5013\n['Rosalind_0498', 'Rosalind_2391', 'Rosalind_2323', 'Rosalind_0442']\no: Rosalind_0498\no: Rosalind_2391\no: Rosalind_2323\no: Rosalind_0442\n"
     ]
    }
   ],
   "source": [
    "ML=[]\n",
    "for i in mylist:\n",
    "    print('i: ' +str(i))\n",
    "    \n",
    "    others= [x for x in mylist if x != i]\n",
    "    \n",
    "    \n",
    "    print(others)\n",
    "    for o in others:\n",
    "        print('o: '+str(o))\n",
    "        tmplist=[]\n",
    "        if FASTADict[i][-3:]==FASTADict[o][:3]:\n",
    "            tmplist=[i,o]\n",
    "            print(tmplist)\n",
    "            ML.append(tmplist)"
   ]
  },
  {
   "cell_type": "code",
   "execution_count": 6,
   "metadata": {},
   "outputs": [
    {
     "output_type": "stream",
     "name": "stdout",
     "text": [
      "Rosalind_0498 Rosalind_2391\nRosalind_0498 Rosalind_0442\nRosalind_2391 Rosalind_2323\n"
     ]
    }
   ],
   "source": [
    "for i in ML:\n",
    "    print(' '.join(i))"
   ]
  },
  {
   "cell_type": "code",
   "execution_count": null,
   "metadata": {},
   "outputs": [],
   "source": []
  }
 ]
}