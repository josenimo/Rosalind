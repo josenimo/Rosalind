{
 "metadata": {
  "language_info": {
   "codemirror_mode": {
    "name": "ipython",
    "version": 3
   },
   "file_extension": ".py",
   "mimetype": "text/x-python",
   "name": "python",
   "nbconvert_exporter": "python",
   "pygments_lexer": "ipython3",
   "version": "3.8.8"
  },
  "orig_nbformat": 4,
  "kernelspec": {
   "name": "python3",
   "display_name": "Python 3.8.8 64-bit ('base': conda)"
  },
  "interpreter": {
   "hash": "0bd1a4d1e6291dea1d2660aa09c009a392dac53435381d2788567577dd358b3c"
  }
 },
 "nbformat": 4,
 "nbformat_minor": 2,
 "cells": [
  {
   "cell_type": "code",
   "execution_count": 1,
   "metadata": {},
   "outputs": [],
   "source": [
    "from urllib import parse\n",
    "from urllib import request"
   ]
  },
  {
   "cell_type": "code",
   "execution_count": 2,
   "metadata": {},
   "outputs": [],
   "source": [
    "old_ids=['Q16775', 'P01866_GCB_MOUSE', 'P13473_LMP2_HUMAN', 'P01190_COLI_BOVIN', 'P81448_EMBP_CRIGR', 'P08709_FA7_HUMAN', 'Q6GEK4', 'P22457_FA7_BOVIN', 'Q90X23', 'P01045_KNH2_BOVIN', 'P07358_CO8B_HUMAN', 'Q640N1', 'Q0TMT1'] "
   ]
  },
  {
   "cell_type": "code",
   "execution_count": 3,
   "metadata": {},
   "outputs": [],
   "source": [
    "ids=['Q16775', 'P01866', 'P13473', 'P01190', 'P81448', 'P08709', 'Q6GEK4', 'P22457', 'Q90X23', 'P01045', 'P07358', 'Q640N1', 'Q0TMT1']"
   ]
  },
  {
   "cell_type": "code",
   "execution_count": 4,
   "metadata": {},
   "outputs": [],
   "source": [
    "proteins={}\n",
    "\n",
    "for i in range(len(ids)):\n",
    "    \n",
    "    resp=request.urlopen(f'https://www.uniprot.org/uniprot/{ids[i]}.fasta')\n",
    "    tmp_data=resp.read().decode('UTF-8')\n",
    "    tmp_list=tmp_data.split('\\n')\n",
    "\n",
    "    for line in tmp_list:\n",
    "        if '>' in line:\n",
    "            proteins[old_ids[i]]=''\n",
    "        else:\n",
    "            proteins[old_ids[i]] += line\n",
    "        \n"
   ]
  },
  {
   "cell_type": "code",
   "execution_count": 6,
   "metadata": {},
   "outputs": [],
   "source": [
    "import re\n",
    "G_pattern = re.compile('N[^P][ST][^P]')\n",
    "\n",
    "id_loc={}\n",
    "for i in old_ids:\n",
    "    locs=[]\n",
    "    for m in G_pattern.finditer(proteins[i]):\n",
    "        locs.append(str(m.start()))\n",
    "    id_loc[i]=locs"
   ]
  },
  {
   "cell_type": "code",
   "execution_count": 8,
   "metadata": {},
   "outputs": [
    {
     "output_type": "stream",
     "name": "stdout",
     "text": [
      "Q16775 \n40\nP01866_GCB_MOUSE \n184\nP13473_LMP2_HUMAN \n31 37 48 57 74 100 122 178 228 241 256 274 299 306 316 355\nP01190_COLI_BOVIN \n90\nP81448_EMBP_CRIGR \n85\nP08709_FA7_HUMAN \n204 381\nP22457_FA7_BOVIN \n184 242\nP01045_KNH2_BOVIN \n46 86 167 196 203 279\nP07358_CO8B_HUMAN \n43 100 242 552\nQ640N1 \n470 518 912 1029\n"
     ]
    }
   ],
   "source": [
    "for i in id_loc:\n",
    "    if len(id_loc[i])!=0:\n",
    "        print(i, '\\n' + ' '.join(id_loc[i]))"
   ]
  },
  {
   "cell_type": "code",
   "execution_count": null,
   "metadata": {},
   "outputs": [],
   "source": []
  }
 ]
}