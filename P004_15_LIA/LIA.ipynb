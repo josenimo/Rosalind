{
 "metadata": {
  "language_info": {
   "codemirror_mode": {
    "name": "ipython",
    "version": 3
   },
   "file_extension": ".py",
   "mimetype": "text/x-python",
   "name": "python",
   "nbconvert_exporter": "python",
   "pygments_lexer": "ipython3",
   "version": "3.8.8"
  },
  "orig_nbformat": 4,
  "kernelspec": {
   "name": "python3",
   "display_name": "Python 3.8.8 64-bit ('base': conda)"
  },
  "interpreter": {
   "hash": "0bd1a4d1e6291dea1d2660aa09c009a392dac53435381d2788567577dd358b3c"
  }
 },
 "nbformat": 4,
 "nbformat_minor": 2,
 "cells": [
  {
   "cell_type": "code",
   "execution_count": null,
   "metadata": {},
   "outputs": [],
   "source": [
    "x='AaBb'\n",
    "y='AaBb'\n",
    "\n",
    "def mix_n_count(x,y):\n"
   ]
  },
  {
   "cell_type": "code",
   "execution_count": 4,
   "metadata": {},
   "outputs": [
    {
     "output_type": "execute_result",
     "data": {
      "text/plain": [
       "['AABB',\n",
       " 'AABb',\n",
       " 'AaBB',\n",
       " 'AaBb',\n",
       " 'AAbB',\n",
       " 'AAbb',\n",
       " 'AabB',\n",
       " 'Aabb',\n",
       " 'aABB',\n",
       " 'aABb',\n",
       " 'aaBB',\n",
       " 'aaBb',\n",
       " 'aAbB',\n",
       " 'aAbb',\n",
       " 'aabB',\n",
       " 'aabb']"
      ]
     },
     "metadata": {},
     "execution_count": 4
    }
   ],
   "source": [
    "from itertools import product\n",
    "\n",
    "crossing = list(product('Aa', 'Bb', repeat=2))\n",
    "\n",
    "x=[''.join(sorted(x, key=lambda x: x.lower())\n",
    ") \n",
    "\n",
    "for x in crossing]\n",
    "\n",
    "x"
   ]
  },
  {
   "cell_type": "code",
   "execution_count": 5,
   "metadata": {},
   "outputs": [
    {
     "output_type": "execute_result",
     "data": {
      "text/plain": [
       "[('A', 'B', 'A', 'B'),\n",
       " ('A', 'B', 'A', 'b'),\n",
       " ('A', 'B', 'a', 'B'),\n",
       " ('A', 'B', 'a', 'b'),\n",
       " ('A', 'b', 'A', 'B'),\n",
       " ('A', 'b', 'A', 'b'),\n",
       " ('A', 'b', 'a', 'B'),\n",
       " ('A', 'b', 'a', 'b'),\n",
       " ('a', 'B', 'A', 'B'),\n",
       " ('a', 'B', 'A', 'b'),\n",
       " ('a', 'B', 'a', 'B'),\n",
       " ('a', 'B', 'a', 'b'),\n",
       " ('a', 'b', 'A', 'B'),\n",
       " ('a', 'b', 'A', 'b'),\n",
       " ('a', 'b', 'a', 'B'),\n",
       " ('a', 'b', 'a', 'b')]"
      ]
     },
     "metadata": {},
     "execution_count": 5
    }
   ],
   "source": [
    "crossing"
   ]
  }
 ]
}