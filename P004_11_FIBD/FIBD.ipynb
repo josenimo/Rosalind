{
 "metadata": {
  "language_info": {
   "codemirror_mode": {
    "name": "ipython",
    "version": 3
   },
   "file_extension": ".py",
   "mimetype": "text/x-python",
   "name": "python",
   "nbconvert_exporter": "python",
   "pygments_lexer": "ipython3",
   "version": "3.8.8"
  },
  "orig_nbformat": 4,
  "kernelspec": {
   "name": "python3",
   "display_name": "Python 3.8.8 64-bit ('base': conda)"
  },
  "interpreter": {
   "hash": "0bd1a4d1e6291dea1d2660aa09c009a392dac53435381d2788567577dd358b3c"
  }
 },
 "nbformat": 4,
 "nbformat_minor": 2,
 "cells": [
  {
   "cell_type": "code",
   "execution_count": 1,
   "metadata": {},
   "outputs": [
    {
     "output_type": "stream",
     "name": "stdout",
     "text": [
      "['8', '4']\n"
     ]
    }
   ],
   "source": [
    "with open('test.txt','r') as f:\n",
    "    rawinput=str(f.read())\n",
    "    mylist=rawinput.split()\n",
    "print(mylist)"
   ]
  },
  {
   "cell_type": "code",
   "execution_count": 2,
   "metadata": {},
   "outputs": [],
   "source": [
    "months=int(mylist[0])\n",
    "death=int(mylist[1])"
   ]
  },
  {
   "cell_type": "code",
   "execution_count": 3,
   "metadata": {},
   "outputs": [
    {
     "output_type": "stream",
     "name": "stdout",
     "text": [
      "i: 2\n[0, 1, 1, 2]\ni: 3\n[0, 1, 1, 2, 3]\n"
     ]
    }
   ],
   "source": [
    "memory=[0,1,1]\n",
    "for i in range(2,death):\n",
    "    print('i: '+str(i))\n",
    "    x = memory[-1] + memory[-2]\n",
    "    memory.append(int(x))\n",
    "    print(memory)\n",
    "memory.append(memory[-1] + memory[-2] - 1)"
   ]
  },
  {
   "cell_type": "code",
   "execution_count": 4,
   "metadata": {},
   "outputs": [],
   "source": [
    "# memory=[0,1,1,2,3,4]\n",
    "for i in range(death+1,months):\n",
    "    # print('i: ' + str(i))\n",
    "    # print('memory[-1]: ' + str(memory[-1]))\n",
    "    # print('memory[-2]: ' + str(memory[-2]))\n",
    "    # print('memory[-death-1]: ' + str(memory[-death-1]))\n",
    "    tmp= memory[-1] + memory[-2] - memory[(-death-1)]\n",
    "    # print('tmp: ' + str(tmp))\n",
    "    memory.append(tmp)"
   ]
  },
  {
   "cell_type": "code",
   "execution_count": null,
   "metadata": {},
   "outputs": [],
   "source": [
    "print(memory[-1])"
   ]
  }
 ]
}